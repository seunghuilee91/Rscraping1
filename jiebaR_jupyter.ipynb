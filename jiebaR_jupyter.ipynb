{
 "cells": [
  {
   "cell_type": "code",
   "execution_count": 1,
   "metadata": {},
   "outputs": [
    {
     "name": "stderr",
     "output_type": "stream",
     "text": [
      "Loading required package: xml2\n",
      "\n",
      "Attaching package: 'dplyr'\n",
      "\n",
      "The following objects are masked from 'package:stats':\n",
      "\n",
      "    filter, lag\n",
      "\n",
      "The following objects are masked from 'package:base':\n",
      "\n",
      "    intersect, setdiff, setequal, union\n",
      "\n",
      "Registered S3 method overwritten by 'openssl':\n",
      "  method      from\n",
      "  print.bytes Rcpp\n"
     ]
    },
    {
     "name": "stdout",
     "output_type": "stream",
     "text": [
      "[1] \"Connecting to remote server\"\n",
      "$acceptInsecureCerts\n",
      "[1] FALSE\n",
      "\n",
      "$browserName\n",
      "[1] \"chrome\"\n",
      "\n",
      "$browserVersion\n",
      "[1] \"79.0.3945.117\"\n",
      "\n",
      "$chrome\n",
      "$chrome$chromedriverVersion\n",
      "[1] \"79.0.3945.16 (93fcc21110c10dbbd49bbff8f472335360e31d05-refs/branch-heads/3945@{#262})\"\n",
      "\n",
      "$chrome$userDataDir\n",
      "[1] \"C:\\\\Users\\\\seung\\\\AppData\\\\Local\\\\Temp\\\\scoped_dir19096_517797172\"\n",
      "\n",
      "\n",
      "$`goog:chromeOptions`\n",
      "$`goog:chromeOptions`$debuggerAddress\n",
      "[1] \"localhost:51264\"\n",
      "\n",
      "\n",
      "$networkConnectionEnabled\n",
      "[1] FALSE\n",
      "\n",
      "$pageLoadStrategy\n",
      "[1] \"normal\"\n",
      "\n",
      "$platformName\n",
      "[1] \"windows\"\n",
      "\n",
      "$proxy\n",
      "named list()\n",
      "\n",
      "$setWindowRect\n",
      "[1] TRUE\n",
      "\n",
      "$strictFileInteractability\n",
      "[1] FALSE\n",
      "\n",
      "$timeouts\n",
      "$timeouts$implicit\n",
      "[1] 0\n",
      "\n",
      "$timeouts$pageLoad\n",
      "[1] 300000\n",
      "\n",
      "$timeouts$script\n",
      "[1] 30000\n",
      "\n",
      "\n",
      "$unhandledPromptBehavior\n",
      "[1] \"dismiss and notify\"\n",
      "\n",
      "$webdriver.remote.sessionid\n",
      "[1] \"0cac27d3fc9832fb96a4f346cd8637df\"\n",
      "\n",
      "$id\n",
      "[1] \"0cac27d3fc9832fb96a4f346cd8637df\"\n",
      "\n"
     ]
    }
   ],
   "source": [
    "library(httr)\n",
    "library(rvest)\n",
    "library(dplyr)\n",
    "library(RSelenium)\n",
    "\n",
    "# CMD cd C:\\selenium java -Dwebdriver.gecko.driver=\"geckodriver.exe\" -jar selenium-server-standalone-3.141.59.jar -port 4445\n",
    "\n",
    "remD <- remoteDriver(port=4445L, browserName=\"chrome\")\n",
    "remD$open()\n",
    "\n",
    "\n",
    "title_forme <- \"shampoo\" \n",
    "remD$navigate(paste0(\"https://list.tmall.hk/search_product.htm?q=\",title_forme))\n"
   ]
  },
  {
   "cell_type": "code",
   "execution_count": 2,
   "metadata": {},
   "outputs": [
    {
     "data": {
      "text/html": [
       "<ol class=list-inline>\n",
       "\t<li>'\\n\\n\\n施泰福Physiogel霏丝佳洁净敏感肌肤温和无皂洗发水Shampoo 250ml\\n\\n\\n'</li>\n",
       "\t<li>'\\n\\n\\n韩国直邮TS SHAMPOO洗发水 滋养头皮去屑止痒控油防止脱发300ml\\n\\n\\n'</li>\n",
       "\t<li>'\\n\\n\\n韩国直邮TS SHAMPOO洗发水 滋养头皮去屑止痒控油防止脱发300ml\\n\\n\\n'</li>\n",
       "\t<li>'\\n\\n\\n韩国直邮 韩国TS SHAMPOO BD洗发水500ml去屑止痒清爽控油洗发露\\n\\n\\n'</li>\n",
       "\t<li>'\\n\\n\\nRoyal Spa? Chamomile Shampoo洋甘菊洗发水保湿滋润shop.com\\n\\n\\n'</li>\n",
       "\t<li>'\\n\\n\\n韩国直邮 韩国TS SHAMPOO BD洗发水500ml去屑止痒清爽控油洗发露\\n\\n\\n'</li>\n",
       "\t<li>'\\n\\n\\n【韩国仓直邮】韩国TS SHAMPOO婴儿洗发水 温和天然洗护二合一\\n\\n\\n'</li>\n",
       "\t<li>'\\n\\n\\n【韩国仓直邮】韩国TS SHAMPOO婴儿洗发水 温和天然洗护二合一\\n\\n\\n'</li>\n",
       "\t<li><span style=white-space:pre-wrap>'\\n\\n\\n韩国直邮[Pyunkang Yul] Ato Wash   Shampoo 290ml\\n\\n\\n'</span></li>\n",
       "\t<li>'\\n\\n\\n韩国直邮[Pyunkang Yul] Ato Wash &amp; Shampoo 290ml\\n\\n\\n'</li>\n",
       "</ol>\n"
      ],
      "text/latex": [
       "\\begin{enumerate*}\n",
       "\\item '\\textbackslash{}n\\textbackslash{}n\\textbackslash{}n施泰福Physiogel霏丝佳洁净敏感肌肤温和无皂洗发水Shampoo 250ml\\textbackslash{}n\\textbackslash{}n\\textbackslash{}n'\n",
       "\\item '\\textbackslash{}n\\textbackslash{}n\\textbackslash{}n韩国直邮TS SHAMPOO洗发水 滋养头皮去屑止痒控油防止脱发300ml\\textbackslash{}n\\textbackslash{}n\\textbackslash{}n'\n",
       "\\item '\\textbackslash{}n\\textbackslash{}n\\textbackslash{}n韩国直邮TS SHAMPOO洗发水 滋养头皮去屑止痒控油防止脱发300ml\\textbackslash{}n\\textbackslash{}n\\textbackslash{}n'\n",
       "\\item '\\textbackslash{}n\\textbackslash{}n\\textbackslash{}n韩国直邮 韩国TS SHAMPOO BD洗发水500ml去屑止痒清爽控油洗发露\\textbackslash{}n\\textbackslash{}n\\textbackslash{}n'\n",
       "\\item '\\textbackslash{}n\\textbackslash{}n\\textbackslash{}nRoyal Spa? Chamomile Shampoo洋甘菊洗发水保湿滋润shop.com\\textbackslash{}n\\textbackslash{}n\\textbackslash{}n'\n",
       "\\item '\\textbackslash{}n\\textbackslash{}n\\textbackslash{}n韩国直邮 韩国TS SHAMPOO BD洗发水500ml去屑止痒清爽控油洗发露\\textbackslash{}n\\textbackslash{}n\\textbackslash{}n'\n",
       "\\item '\\textbackslash{}n\\textbackslash{}n\\textbackslash{}n【韩国仓直邮】韩国TS SHAMPOO婴儿洗发水 温和天然洗护二合一\\textbackslash{}n\\textbackslash{}n\\textbackslash{}n'\n",
       "\\item '\\textbackslash{}n\\textbackslash{}n\\textbackslash{}n【韩国仓直邮】韩国TS SHAMPOO婴儿洗发水 温和天然洗护二合一\\textbackslash{}n\\textbackslash{}n\\textbackslash{}n'\n",
       "\\item '\\textbackslash{}n\\textbackslash{}n\\textbackslash{}n韩国直邮{[}Pyunkang Yul{]} Ato Wash   Shampoo 290ml\\textbackslash{}n\\textbackslash{}n\\textbackslash{}n'\n",
       "\\item '\\textbackslash{}n\\textbackslash{}n\\textbackslash{}n韩国直邮{[}Pyunkang Yul{]} Ato Wash \\& Shampoo 290ml\\textbackslash{}n\\textbackslash{}n\\textbackslash{}n'\n",
       "\\end{enumerate*}\n"
      ],
      "text/markdown": [
       "1. '\\n\\n\\n施泰福Physiogel霏丝佳洁净敏感肌肤温和无皂洗发水Shampoo 250ml\\n\\n\\n'\n",
       "2. '\\n\\n\\n韩国直邮TS SHAMPOO洗发水 滋养头皮去屑止痒控油防止脱发300ml\\n\\n\\n'\n",
       "3. '\\n\\n\\n韩国直邮TS SHAMPOO洗发水 滋养头皮去屑止痒控油防止脱发300ml\\n\\n\\n'\n",
       "4. '\\n\\n\\n韩国直邮 韩国TS SHAMPOO BD洗发水500ml去屑止痒清爽控油洗发露\\n\\n\\n'\n",
       "5. '\\n\\n\\nRoyal Spa? Chamomile Shampoo洋甘菊洗发水保湿滋润shop.com\\n\\n\\n'\n",
       "6. '\\n\\n\\n韩国直邮 韩国TS SHAMPOO BD洗发水500ml去屑止痒清爽控油洗发露\\n\\n\\n'\n",
       "7. '\\n\\n\\n【韩国仓直邮】韩国TS SHAMPOO婴儿洗发水 温和天然洗护二合一\\n\\n\\n'\n",
       "8. '\\n\\n\\n【韩国仓直邮】韩国TS SHAMPOO婴儿洗发水 温和天然洗护二合一\\n\\n\\n'\n",
       "9. <span style=white-space:pre-wrap>'\\n\\n\\n韩国直邮[Pyunkang Yul] Ato Wash   Shampoo 290ml\\n\\n\\n'</span>\n",
       "10. '\\n\\n\\n韩国直邮[Pyunkang Yul] Ato Wash &amp; Shampoo 290ml\\n\\n\\n'\n",
       "\n",
       "\n"
      ],
      "text/plain": [
       " [1] \"\\n\\n\\n施泰福Physiogel<U+970F><U+4E1D>佳<U+6D01><U+51C0>敏感肌<U+80A4><U+6E29>和无<U+7682>洗<U+53D1>水Shampoo 250ml\\n\\n\\n\"\n",
       " [2] \"\\n\\n\\n<U+97E9><U+56FD>直<U+90AE>TS SHAMPOO洗<U+53D1>水 滋<U+517B><U+5934>皮去屑止痒控油防止<U+8131><U+53D1>300ml\\n\\n\\n\"\n",
       " [3] \"\\n\\n\\n<U+97E9><U+56FD>直<U+90AE>TS SHAMPOO洗<U+53D1>水 滋<U+517B><U+5934>皮去屑止痒控油防止<U+8131><U+53D1>300ml\\n\\n\\n\"\n",
       " [4] \"\\n\\n\\n<U+97E9><U+56FD>直<U+90AE> <U+97E9><U+56FD>TS SHAMPOO BD洗<U+53D1>水500ml去屑止痒<U+6E05>爽控油洗<U+53D1>露\\n\\n\\n\"\n",
       " [5] \"\\n\\n\\nRoyal Spa? Chamomile Shampoo洋甘菊洗<U+53D1>水保<U+6E7F>滋<U+6DA6>shop.com\\n\\n\\n\"\n",
       " [6] \"\\n\\n\\n<U+97E9><U+56FD>直<U+90AE> <U+97E9><U+56FD>TS SHAMPOO BD洗<U+53D1>水500ml去屑止痒<U+6E05>爽控油洗<U+53D1>露\\n\\n\\n\"\n",
       " [7] \"\\n\\n\\n【<U+97E9><U+56FD><U+4ED3>直<U+90AE>】<U+97E9><U+56FD>TS SHAMPOO<U+5A74><U+513F>洗<U+53D1>水 <U+6E29>和天然洗<U+62A4>二合一\\n\\n\\n\"\n",
       " [8] \"\\n\\n\\n【<U+97E9><U+56FD><U+4ED3>直<U+90AE>】<U+97E9><U+56FD>TS SHAMPOO<U+5A74><U+513F>洗<U+53D1>水 <U+6E29>和天然洗<U+62A4>二合一\\n\\n\\n\"\n",
       " [9] \"\\n\\n\\n<U+97E9><U+56FD>直<U+90AE>[Pyunkang Yul] Ato Wash   Shampoo 290ml\\n\\n\\n\"\n",
       "[10] \"\\n\\n\\n<U+97E9><U+56FD>直<U+90AE>[Pyunkang Yul] Ato Wash & Shampoo 290ml\\n\\n\\n\""
      ]
     },
     "metadata": {},
     "output_type": "display_data"
    }
   ],
   "source": [
    "\n",
    "html <- remD$getPageSource()[[1]]\n",
    "html <- read_html(html)\n",
    "\n",
    "product_title <- html %>% html_nodes(\".productTitle\") %>% html_text()\n",
    "product_title[1:10]"
   ]
  },
  {
   "cell_type": "code",
   "execution_count": 3,
   "metadata": {},
   "outputs": [],
   "source": [
    "\n",
    "product_title <- gsub(\"\\n\", \" \", product_title)\n",
    "product_title <- gsub(\"ml\", \" \", product_title)\n",
    "product_title <- trimws(product_title)\n",
    "# 공백을 제거해주는 trimws() 함수\n",
    "# 참고 : https://blog.naver.com/itisik/221642089380"
   ]
  },
  {
   "cell_type": "code",
   "execution_count": 4,
   "metadata": {},
   "outputs": [
    {
     "data": {
      "text/html": [
       "<ol class=list-inline>\n",
       "\t<li>'施泰福Physiogel霏丝佳洁净敏感肌肤温和无皂洗发水Shampoo 250'</li>\n",
       "\t<li>'韩国直邮TS SHAMPOO洗发水 滋养头皮去屑止痒控油防止脱发300'</li>\n",
       "\t<li>'韩国直邮TS SHAMPOO洗发水 滋养头皮去屑止痒控油防止脱发300'</li>\n",
       "\t<li>'韩国直邮 韩国TS SHAMPOO BD洗发水500 去屑止痒清爽控油洗发露'</li>\n",
       "\t<li>'Royal Spa? Chamomile Shampoo洋甘菊洗发水保湿滋润shop.com'</li>\n",
       "\t<li>'韩国直邮 韩国TS SHAMPOO BD洗发水500 去屑止痒清爽控油洗发露'</li>\n",
       "\t<li>'【韩国仓直邮】韩国TS SHAMPOO婴儿洗发水 温和天然洗护二合一'</li>\n",
       "\t<li>'【韩国仓直邮】韩国TS SHAMPOO婴儿洗发水 温和天然洗护二合一'</li>\n",
       "\t<li><span style=white-space:pre-wrap>'韩国直邮[Pyunkang Yul] Ato Wash   Shampoo 290'</span></li>\n",
       "\t<li>'韩国直邮[Pyunkang Yul] Ato Wash &amp; Shampoo 290'</li>\n",
       "</ol>\n"
      ],
      "text/latex": [
       "\\begin{enumerate*}\n",
       "\\item '施泰福Physiogel霏丝佳洁净敏感肌肤温和无皂洗发水Shampoo 250'\n",
       "\\item '韩国直邮TS SHAMPOO洗发水 滋养头皮去屑止痒控油防止脱发300'\n",
       "\\item '韩国直邮TS SHAMPOO洗发水 滋养头皮去屑止痒控油防止脱发300'\n",
       "\\item '韩国直邮 韩国TS SHAMPOO BD洗发水500 去屑止痒清爽控油洗发露'\n",
       "\\item 'Royal Spa? Chamomile Shampoo洋甘菊洗发水保湿滋润shop.com'\n",
       "\\item '韩国直邮 韩国TS SHAMPOO BD洗发水500 去屑止痒清爽控油洗发露'\n",
       "\\item '【韩国仓直邮】韩国TS SHAMPOO婴儿洗发水 温和天然洗护二合一'\n",
       "\\item '【韩国仓直邮】韩国TS SHAMPOO婴儿洗发水 温和天然洗护二合一'\n",
       "\\item '韩国直邮{[}Pyunkang Yul{]} Ato Wash   Shampoo 290'\n",
       "\\item '韩国直邮{[}Pyunkang Yul{]} Ato Wash \\& Shampoo 290'\n",
       "\\end{enumerate*}\n"
      ],
      "text/markdown": [
       "1. '施泰福Physiogel霏丝佳洁净敏感肌肤温和无皂洗发水Shampoo 250'\n",
       "2. '韩国直邮TS SHAMPOO洗发水 滋养头皮去屑止痒控油防止脱发300'\n",
       "3. '韩国直邮TS SHAMPOO洗发水 滋养头皮去屑止痒控油防止脱发300'\n",
       "4. '韩国直邮 韩国TS SHAMPOO BD洗发水500 去屑止痒清爽控油洗发露'\n",
       "5. 'Royal Spa? Chamomile Shampoo洋甘菊洗发水保湿滋润shop.com'\n",
       "6. '韩国直邮 韩国TS SHAMPOO BD洗发水500 去屑止痒清爽控油洗发露'\n",
       "7. '【韩国仓直邮】韩国TS SHAMPOO婴儿洗发水 温和天然洗护二合一'\n",
       "8. '【韩国仓直邮】韩国TS SHAMPOO婴儿洗发水 温和天然洗护二合一'\n",
       "9. <span style=white-space:pre-wrap>'韩国直邮[Pyunkang Yul] Ato Wash   Shampoo 290'</span>\n",
       "10. '韩国直邮[Pyunkang Yul] Ato Wash &amp; Shampoo 290'\n",
       "\n",
       "\n"
      ],
      "text/plain": [
       " [1] \"施泰福Physiogel<U+970F><U+4E1D>佳<U+6D01><U+51C0>敏感肌<U+80A4><U+6E29>和无<U+7682>洗<U+53D1>水Shampoo 250\"\n",
       " [2] \"<U+97E9><U+56FD>直<U+90AE>TS SHAMPOO洗<U+53D1>水 滋<U+517B><U+5934>皮去屑止痒控油防止<U+8131><U+53D1>300\"\n",
       " [3] \"<U+97E9><U+56FD>直<U+90AE>TS SHAMPOO洗<U+53D1>水 滋<U+517B><U+5934>皮去屑止痒控油防止<U+8131><U+53D1>300\"\n",
       " [4] \"<U+97E9><U+56FD>直<U+90AE> <U+97E9><U+56FD>TS SHAMPOO BD洗<U+53D1>水500 去屑止痒<U+6E05>爽控油洗<U+53D1>露\"\n",
       " [5] \"Royal Spa? Chamomile Shampoo洋甘菊洗<U+53D1>水保<U+6E7F>滋<U+6DA6>shop.com\"\n",
       " [6] \"<U+97E9><U+56FD>直<U+90AE> <U+97E9><U+56FD>TS SHAMPOO BD洗<U+53D1>水500 去屑止痒<U+6E05>爽控油洗<U+53D1>露\"\n",
       " [7] \"【<U+97E9><U+56FD><U+4ED3>直<U+90AE>】<U+97E9><U+56FD>TS SHAMPOO<U+5A74><U+513F>洗<U+53D1>水 <U+6E29>和天然洗<U+62A4>二合一\"\n",
       " [8] \"【<U+97E9><U+56FD><U+4ED3>直<U+90AE>】<U+97E9><U+56FD>TS SHAMPOO<U+5A74><U+513F>洗<U+53D1>水 <U+6E29>和天然洗<U+62A4>二合一\"\n",
       " [9] \"<U+97E9><U+56FD>直<U+90AE>[Pyunkang Yul] Ato Wash   Shampoo 290\"\n",
       "[10] \"<U+97E9><U+56FD>直<U+90AE>[Pyunkang Yul] Ato Wash & Shampoo 290\""
      ]
     },
     "metadata": {},
     "output_type": "display_data"
    }
   ],
   "source": [
    "product_title[1:10]"
   ]
  },
  {
   "cell_type": "code",
   "execution_count": 5,
   "metadata": {},
   "outputs": [
    {
     "name": "stderr",
     "output_type": "stream",
     "text": [
      "Loading required package: jiebaRD\n",
      "Loading required package: RColorBrewer\n",
      "Warning message in `[.qseg`(qseg, product_title):\n",
      "\"Quick mode is depreciated, and is scheduled to be remove in v0.11.0. If you want to keep this feature, please submit a issue on GitHub page to let me know.\""
     ]
    },
    {
     "data": {
      "text/html": [
       "232"
      ],
      "text/latex": [
       "232"
      ],
      "text/markdown": [
       "232"
      ],
      "text/plain": [
       "[1] 232"
      ]
     },
     "metadata": {},
     "output_type": "display_data"
    }
   ],
   "source": [
    "\n",
    "# 형태소 분석 후  워드 클라우드 만들기 \n",
    "library(jiebaR)\n",
    "library(wordcloud)\n",
    "\n",
    "seg <- qseg[product_title]\n",
    "seg <- seg[nchar(seg)>1]\n",
    "seg <- table(seg)\n",
    "length(seg)"
   ]
  },
  {
   "cell_type": "code",
   "execution_count": 6,
   "metadata": {},
   "outputs": [
    {
     "data": {
      "text/plain": [
       "seg\n",
       " 洗<U+53D1>水            TS <U+97E9><U+56FD>          硅油  洗<U+53D1>露 \n",
       "           44            26            22            16            16 \n",
       "         去屑    修<U+62A4>  帝<U+53F6>斯          控油           250 \n",
       "           14            14            13            12            11 \n",
       "          500    <U+5934>皮          止痒    <U+6E29>和    <U+8FDB>口 \n",
       "           11             9             9             8             8 \n",
       "   防<U+8131>    滋<U+517B>           300          Hair    保<U+6E7F> \n",
       "            8             8             7             7             7 \n",
       "   直<U+90AE>    Christophe      Holistic         Robin       SHAMPOO \n",
       "            7             6             6             6             6 \n",
       "   洗<U+62A4>    柔<U+987A>    滋<U+6DA6>  精<U+534E>素    <U+6E05>爽 \n",
       "            6             6             6             6             5 \n",
       "          ALL           NEW       Shampoo          改善    修<U+590D> \n",
       "            5             5             5             5             5 \n",
       "<U+8131><U+53D1>    <U+987A>滑           100       Rituals          可用 \n",
       "            4             4             4             4             4 \n",
       "   深<U+5C42>          日本    孕<U+5987>          天然    巴<U+5C14> \n",
       "            4             4             4             4             4 \n",
       "   <U+51C0>化    <U+53D1>乳 <U+5A74><U+513F> <U+62A4><U+53D1> <U+62A4><U+53D1>素 \n",
       "            3             3             3             3             3 \n",
       "   <U+62A4>色 <U+6DA6><U+6CFD>           200        ALLNEW       Balmain \n",
       "            3             3             3             3             3 \n",
       "           BD     ESTANDARD          干枯    固<U+53D1>          留香 \n",
       "            3             3             3             3             3 \n",
       "         敏感 防<U+8131><U+53D1>          防止    舒<U+7F13>    洗<U+53D1> \n",
       "            3             3             3             3             3 \n",
       " 洗<U+5934>膏    升<U+7EA7>        二合一          持久    套<U+88C5> \n",
       "            3             3             3             3             3 \n",
       "<U+4ED3>直<U+90AE> <U+517B><U+62A4> <U+53D1><U+8D28>    <U+56FD>防    <U+5934>屑 \n",
       "            2             2             2             2             2 \n",
       "   <U+62A4>理 <U+73AB><U+7470>    <U+7D27>急    <U+836F>用 <U+8425><U+517B> \n",
       "            2             2             2             2             2 \n",
       "   <U+94BB>石    <U+9884>防           290           530           Ato \n",
       "            2             2             2             2             2 \n",
       "           CR          LDKH         Louis           one      Pyunkang \n",
       "            2             2             2             2             2 \n",
       "         Wash        Widmer           Yul          干性    橄<U+6984> \n",
       "            2             2             2             2             2 \n",
       "       去味型    健<U+53D1>          男士          多效    德<U+56FD> \n",
       "            2             2             2             2             2 \n",
       "         挑染    亮<U+6CFD>        曼炫酷          毛躁    泛<U+7EA2> \n",
       "            2             2             2             2             2 \n",
       "瑞<U+80A4><U+5B9D>          瑞士  洗<U+5934>水    受<U+635F>          牙膏 \n",
       "            2             2             2             2             2 \n",
       "       洋甘菊    原<U+88C5>    精<U+534E>          珍珠    芦<U+835F> \n",
       "            2             2             2             2             2 \n",
       "   <U+4E13>用    <U+4E1D>佳    <U+4E30>盈 <U+5362><U+5361> <U+53D1><U+4E1D> \n",
       "            1             1             1             1             1 \n",
       "<U+53D1><U+62A4><U+53D1>  <U+53D1>多色    <U+53D1>尾    <U+5934>痒  <U+5934>皮屑 \n",
       "            1             1             1             1             1 \n",
       "<U+5965><U+4E50><U+9F50> <U+5B9D><U+5B9D>  <U+5F20>柏芝 <U+62A4>色<U+62A4>  <U+62A4>色防 \n",
       "            1             1             1             1             1 \n",
       "<U+6781><U+7B80> <U+67A3><U+6811>    <U+6A31>花 <U+6D01><U+51C0>    <U+6D45>色 \n",
       "            1             1             1             1             1 \n",
       "<U+6E05><U+6D01>    <U+6E05>屑    <U+6E05>新    <U+7C7D>油    <U+7ECF>典 \n",
       "            1             1             1             1             1 \n",
       "   <U+7EDA>彩 <U+7EDA>彩<U+4E1D> <U+7EF4><U+857E>德    <U+7F13>解 <U+95F7><U+9752> \n",
       "            1             1             1             1             1 \n",
       "<U+9EC4><U+9501>色           120           190           350           400 \n",
       "            1             1             1             1             1 \n",
       "          430           600          ALDI Anthropologie       APIVITA \n",
       "            1             1             1             1             1 \n",
       "     BOTANETH     Chamomile           com         CR250     Hairburst \n",
       "            1             1             1             1             1 \n",
       "       lacura     Physiogel          PLUS      PRONOXIN         Royal \n",
       "            1             1             1             1             1 \n",
       "         shop           Spa        Weleda    可<U+51FB>    可<U+9009> \n",
       "            1             1             1             1             1 \n",
       "   干<U+635F>          强根          健康  膏不<U+4F24>          固色 \n",
       "            1             1             1             1             1 \n",
       "         官方    口<U+6C14>    肌<U+80A4>          男女          掉色 \n",
       "            1             1             1             1             1 \n",
       "         同款        摩洛哥    毛<U+7CD9>          沐浴        沐浴露 \n",
       "            1             1             1             1             1 \n",
       "   无<U+7682>          无屑          无香 美<U+56FD><U+8FDB>口        美白去 \n",
       "            1             1             1             1             1 \n",
       "         放心          白色          蜂蜜          蓬松    分<U+88C5> \n",
       "            1             1             1             1             1 \n",
       "   生<U+53D1>        性皮炎  洗<U+53D1>液          洗浴    小<U+9EA6> \n",
       "            1             1             1             1             1 \n",
       "         笑佛        施泰福  新西<U+5170>          新品    心<U+7F18> \n",
       "            1             1             1             1             1 \n",
       "       牙菌斑          阿育          安全        艾蜜塔    烟<U+6E0D> \n",
       "            1             1             1             1             1 \n",
       "   染<U+53D1> 染<U+53D1><U+5242>          染后    英<U+56FD>          用品 \n",
       "            1             1             1             1             1 \n",
       "         有机          乳液          刺梨          自然          全家 \n",
       "            1             1             1             1             1 \n",
       "         精油          正品    增<U+8273>          添加    替<U+6362> \n",
       "            1             1             1             1             1 \n",
       "     草本植物        版脂溢          吠陀          汗味          含香 \n",
       "            1             1             1             1             1 \n",
       "   香<U+7682>          活力 \n",
       "            1             1 "
      ]
     },
     "metadata": {},
     "output_type": "display_data"
    }
   ],
   "source": [
    "\n",
    "seg <- sort(seg, decreasing = TRUE)\n",
    "seg"
   ]
  },
  {
   "cell_type": "code",
   "execution_count": 7,
   "metadata": {},
   "outputs": [
    {
     "ename": "ERROR",
     "evalue": "Error in wordcloud2(seg, color = \"random-light\", backgroundColor = \"grey\"): 함수 \"wordcloud2\"를 찾을 수 없습니다\n",
     "output_type": "error",
     "traceback": [
      "Error in wordcloud2(seg, color = \"random-light\", backgroundColor = \"grey\"): 함수 \"wordcloud2\"를 찾을 수 없습니다\nTraceback:\n"
     ]
    },
    {
     "data": {
      "image/png": "[encoded data removed]",
      "text/plain": [
       "plot without title"
      ]
     },
     "metadata": {},
     "output_type": "display_data"
    }
   ],
   "source": [
    "\n",
    "wordcloud(names(seg), seg, colors = rainbow(100), random.order=F)\n",
    "wordcloud2(seg, color = \"random-light\", backgroundColor = \"grey\")"
   ]
  },
  {
   "cell_type": "code",
   "execution_count": null,
   "metadata": {},
   "outputs": [],
   "source": []
  }
 ],
 "metadata": {
  "kernelspec": {
   "display_name": "R",
   "language": "R",
   "name": "ir"
  },
  "language_info": {
   "codemirror_mode": "r",
   "file_extension": ".r",
   "mimetype": "text/x-r-source",
   "name": "R",
   "pygments_lexer": "r",
   "version": "3.6.1"
  }
 },
 "nbformat": 4,
 "nbformat_minor": 2
}
