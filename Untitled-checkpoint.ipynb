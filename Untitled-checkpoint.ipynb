{
 "cells": [
  {
   "cell_type": "code",
   "execution_count": 1,
   "metadata": {},
   "outputs": [],
   "source": [
    "# I wanted to scrap those titles related to \"광군절\", which is China Shopping Festival held on every 11th, November shark.\n",
    "# So, here is what I have done using Rselenum package\n",
    "# Firstly, you should follow the step to get prepared, you may find more details out of the REAMDME of this file.\n"
   ]
  },
  {
   "cell_type": "code",
   "execution_count": 3,
   "metadata": {},
   "outputs": [
    {
     "name": "stderr",
     "output_type": "stream",
     "text": [
      "Loading required package: xml2\n",
      "\n",
      "Attaching package: 'dplyr'\n",
      "\n",
      "The following objects are masked from 'package:stats':\n",
      "\n",
      "    filter, lag\n",
      "\n",
      "The following objects are masked from 'package:base':\n",
      "\n",
      "    intersect, setdiff, setequal, union\n",
      "\n"
     ]
    }
   ],
   "source": [
    "library(httr)\n",
    "library(rvest)\n",
    "library(dplyr)\n",
    "library(RSelenium)"
   ]
  },
  {
   "cell_type": "code",
   "execution_count": 4,
   "metadata": {},
   "outputs": [
    {
     "name": "stdout",
     "output_type": "stream",
     "text": [
      "[1] \"Connecting to remote server\"\n",
      "$acceptInsecureCerts\n",
      "[1] FALSE\n",
      "\n",
      "$browserName\n",
      "[1] \"chrome\"\n",
      "\n",
      "$browserVersion\n",
      "[1] \"78.0.3904.87\"\n",
      "\n",
      "$chrome\n",
      "$chrome$chromedriverVersion\n",
      "[1] \"78.0.3904.70 (edb9c9f3de0247fd912a77b7f6cae7447f6d3ad5-refs/branch-heads/3904@{#800})\"\n",
      "\n",
      "$chrome$userDataDir\n",
      "[1] \"C:\\\\Users\\\\seung\\\\AppData\\\\Local\\\\Temp\\\\scoped_dir1740_550471769\"\n",
      "\n",
      "\n",
      "$`goog:chromeOptions`\n",
      "$`goog:chromeOptions`$debuggerAddress\n",
      "[1] \"localhost:50723\"\n",
      "\n",
      "\n",
      "$networkConnectionEnabled\n",
      "[1] FALSE\n",
      "\n",
      "$pageLoadStrategy\n",
      "[1] \"normal\"\n",
      "\n",
      "$platformName\n",
      "[1] \"windows nt\"\n",
      "\n",
      "$proxy\n",
      "named list()\n",
      "\n",
      "$setWindowRect\n",
      "[1] TRUE\n",
      "\n",
      "$strictFileInteractability\n",
      "[1] FALSE\n",
      "\n",
      "$timeouts\n",
      "$timeouts$implicit\n",
      "[1] 0\n",
      "\n",
      "$timeouts$pageLoad\n",
      "[1] 300000\n",
      "\n",
      "$timeouts$script\n",
      "[1] 30000\n",
      "\n",
      "\n",
      "$unhandledPromptBehavior\n",
      "[1] \"dismiss and notify\"\n",
      "\n",
      "$webdriver.remote.sessionid\n",
      "[1] \"89567f51be3f99cf0d4f1cbc64238de5\"\n",
      "\n",
      "$id\n",
      "[1] \"89567f51be3f99cf0d4f1cbc64238de5\"\n",
      "\n"
     ]
    }
   ],
   "source": [
    "remD <- remoteDriver(port=4445L, browserName=\"chrome\")   # MAKE SURE THAT CMD OF YOUR COMPUTER IS STILL RUNNING AT THE SAME TIME\n",
    "remD$open() # IT WILL DIRECTLY RUN CHROME \n"
   ]
  },
  {
   "cell_type": "code",
   "execution_count": 6,
   "metadata": {},
   "outputs": [],
   "source": [
    "title_forme <- \"광군절\" \n",
    "remD$navigate(paste0(\"https://www.youtube.com/results?search_query=\",title_forme))"
   ]
  },
  {
   "cell_type": "code",
   "execution_count": 7,
   "metadata": {},
   "outputs": [],
   "source": [
    "html <- remD$getPageSource()[[1]]\n",
    "html <- read_html(html)"
   ]
  },
  {
   "cell_type": "code",
   "execution_count": 8,
   "metadata": {},
   "outputs": [
    {
     "data": {
      "text/html": [
       "<ol class=list-inline>\n",
       "\t<li><span style=white-space:pre-wrap>'\\n                시간당매출1조원 중국광군절 쇼핑몰 할인방법 훑어보기\\n              '</span></li>\n",
       "\t<li><span style=white-space:pre-wrap>'\\n                광군절 + 샤오미 = 일단 지르고 몰아서 리뷰! (베이스보드 히터, 가습기 2세대, 손세정기, 온습도계, 센서 무드등)\\n              '</span></li>\n",
       "\t<li><span style=white-space:pre-wrap>'\\n                소비력 과시한 중국 \\'광군제\\'…\"하루 거래액 40조 원\" (2018.11.11/뉴스데스크/MBC)\\n              '</span></li>\n",
       "\t<li><span style=white-space:pre-wrap>'\\n                중국 광군절11월 11일 꼭 사야 하는 Best 4 아이템!!!\\n              '</span></li>\n",
       "\t<li><span style=white-space:pre-wrap>'\\n                중국 광군절 쇼핑해서 개이득 보자~!!!\\n              '</span></li>\n",
       "\t<li><span style=white-space:pre-wrap>'\\n                광군절 타오바오 쇼핑팁 샤오미 에어닷 공홈 구입 Chinese Black Friday Taobao shopping tips and Xiaomi Airdots purchase\\n              '</span></li>\n",
       "\t<li><span style=white-space:pre-wrap>'\\n                광군절에 구매한 싸구려 아이템 언박싱\\n              '</span></li>\n",
       "\t<li><span style=white-space:pre-wrap>'\\n                광군절 11.11 물건 받으셨나요? 1차 개봉기\\n              '</span></li>\n",
       "\t<li><span style=white-space:pre-wrap>'\\n                191021 주일룡 써모스 광군절 홍보 영상\\n              '</span></li>\n",
       "\t<li><span style=white-space:pre-wrap>'\\n                [주식투자]다가오는 광군절 특수를 잡아라 - 화장품 관련주 -\\n              '</span></li>\n",
       "</ol>\n"
      ],
      "text/latex": [
       "\\begin{enumerate*}\n",
       "\\item '\\textbackslash{}n                시간당매출1조원 중국광군절 쇼핑몰 할인방법 훑어보기\\textbackslash{}n              '\n",
       "\\item '\\textbackslash{}n                광군절 + 샤오미 = 일단 지르고 몰아서 리뷰! (베이스보드 히터, 가습기 2세대, 손세정기, 온습도계, 센서 무드등)\\textbackslash{}n              '\n",
       "\\item '\\textbackslash{}n                소비력 과시한 중국 \\textbackslash{}'광군제\\textbackslash{}'…\"하루 거래액 40조 원\" (2018.11.11/뉴스데스크/MBC)\\textbackslash{}n              '\n",
       "\\item '\\textbackslash{}n                중국 광군절11월 11일 꼭 사야 하는 Best 4 아이템!!!\\textbackslash{}n              '\n",
       "\\item '\\textbackslash{}n                중국 광군절 쇼핑해서 개이득 보자\\textasciitilde{}!!!\\textbackslash{}n              '\n",
       "\\item '\\textbackslash{}n                광군절 타오바오 쇼핑팁 샤오미 에어닷 공홈 구입 Chinese Black Friday Taobao shopping tips and Xiaomi Airdots purchase\\textbackslash{}n              '\n",
       "\\item '\\textbackslash{}n                광군절에 구매한 싸구려 아이템 언박싱\\textbackslash{}n              '\n",
       "\\item '\\textbackslash{}n                광군절 11.11 물건 받으셨나요? 1차 개봉기\\textbackslash{}n              '\n",
       "\\item '\\textbackslash{}n                191021 주일룡 써모스 광군절 홍보 영상\\textbackslash{}n              '\n",
       "\\item '\\textbackslash{}n                {[}주식투자{]}다가오는 광군절 특수를 잡아라 - 화장품 관련주 -\\textbackslash{}n              '\n",
       "\\end{enumerate*}\n"
      ],
      "text/markdown": [
       "1. <span style=white-space:pre-wrap>'\\n                시간당매출1조원 중국광군절 쇼핑몰 할인방법 훑어보기\\n              '</span>\n",
       "2. <span style=white-space:pre-wrap>'\\n                광군절 + 샤오미 = 일단 지르고 몰아서 리뷰! (베이스보드 히터, 가습기 2세대, 손세정기, 온습도계, 센서 무드등)\\n              '</span>\n",
       "3. <span style=white-space:pre-wrap>'\\n                소비력 과시한 중국 \\'광군제\\'…\"하루 거래액 40조 원\" (2018.11.11/뉴스데스크/MBC)\\n              '</span>\n",
       "4. <span style=white-space:pre-wrap>'\\n                중국 광군절11월 11일 꼭 사야 하는 Best 4 아이템!!!\\n              '</span>\n",
       "5. <span style=white-space:pre-wrap>'\\n                중국 광군절 쇼핑해서 개이득 보자~!!!\\n              '</span>\n",
       "6. <span style=white-space:pre-wrap>'\\n                광군절 타오바오 쇼핑팁 샤오미 에어닷 공홈 구입 Chinese Black Friday Taobao shopping tips and Xiaomi Airdots purchase\\n              '</span>\n",
       "7. <span style=white-space:pre-wrap>'\\n                광군절에 구매한 싸구려 아이템 언박싱\\n              '</span>\n",
       "8. <span style=white-space:pre-wrap>'\\n                광군절 11.11 물건 받으셨나요? 1차 개봉기\\n              '</span>\n",
       "9. <span style=white-space:pre-wrap>'\\n                191021 주일룡 써모스 광군절 홍보 영상\\n              '</span>\n",
       "10. <span style=white-space:pre-wrap>'\\n                [주식투자]다가오는 광군절 특수를 잡아라 - 화장품 관련주 -\\n              '</span>\n",
       "\n",
       "\n"
      ],
      "text/plain": [
       " [1] \"\\n                시간당매출1조원 중국광군절 쇼핑몰 할인방법 훑어보기\\n              \"                                                                 \n",
       " [2] \"\\n                광군절 + 샤오미 = 일단 지르고 몰아서 리뷰! (베이스보드 히터, 가습기 2세대, 손세정기, 온습도계, 센서 무드등)\\n              \"         \n",
       " [3] \"\\n                소비력 과시한 중국 '광군제'…\\\"하루 거래액 40조 원\\\" (2018.11.11/뉴스데스크/MBC)\\n              \"                                    \n",
       " [4] \"\\n                중국 광군절11월 11일 꼭 사야 하는 Best 4 아이템!!!\\n              \"                                                                  \n",
       " [5] \"\\n                중국 광군절 쇼핑해서 개이득 보자~!!!\\n              \"                                                                                \n",
       " [6] \"\\n                광군절 타오바오 쇼핑팁 샤오미 에어닷 공홈 구입 Chinese Black Friday Taobao shopping tips and Xiaomi Airdots purchase\\n              \"\n",
       " [7] \"\\n                광군절에 구매한 싸구려 아이템 언박싱\\n              \"                                                                                \n",
       " [8] \"\\n                광군절 11.11 물건 받으셨나요? 1차 개봉기\\n              \"                                                                            \n",
       " [9] \"\\n                191021 주일룡 써모스 광군절 홍보 영상\\n              \"                                                                               \n",
       "[10] \"\\n                [주식투자]다가오는 광군절 특수를 잡아라 - 화장품 관련주 -\\n              \"                                                           "
      ]
     },
     "metadata": {},
     "output_type": "display_data"
    }
   ],
   "source": [
    "youtube_title <- html %>% html_nodes(\"#video-title\") %>% html_text()\n",
    "youtube_title[1:10]"
   ]
  },
  {
   "cell_type": "code",
   "execution_count": 9,
   "metadata": {},
   "outputs": [],
   "source": [
    "youtube_title <- gsub(\"\\n\",\"\",youtube_title) # I JUST WANTED TO MAKE IT LOOK BETTER AND MORE CLEAR\n",
    "youtube_title <- trimws(youtube_title)"
   ]
  },
  {
   "cell_type": "code",
   "execution_count": 10,
   "metadata": {},
   "outputs": [
    {
     "data": {
      "text/html": [
       "<ol class=list-inline>\n",
       "\t<li>'시간당매출1조원 중국광군절 쇼핑몰 할인방법 훑어보기'</li>\n",
       "\t<li>'광군절 + 샤오미 = 일단 지르고 몰아서 리뷰! (베이스보드 히터, 가습기 2세대, 손세정기, 온습도계, 센서 무드등)'</li>\n",
       "\t<li>'소비력 과시한 중국 \\'광군제\\'…\"하루 거래액 40조 원\" (2018.11.11/뉴스데스크/MBC)'</li>\n",
       "\t<li>'중국 광군절11월 11일 꼭 사야 하는 Best 4 아이템!!!'</li>\n",
       "\t<li>'중국 광군절 쇼핑해서 개이득 보자~!!!'</li>\n",
       "\t<li>'광군절 타오바오 쇼핑팁 샤오미 에어닷 공홈 구입 Chinese Black Friday Taobao shopping tips and Xiaomi Airdots purchase'</li>\n",
       "\t<li>'광군절에 구매한 싸구려 아이템 언박싱'</li>\n",
       "\t<li>'광군절 11.11 물건 받으셨나요? 1차 개봉기'</li>\n",
       "\t<li>'191021 주일룡 써모스 광군절 홍보 영상'</li>\n",
       "\t<li>'[주식투자]다가오는 광군절 특수를 잡아라 - 화장품 관련주 -'</li>\n",
       "</ol>\n"
      ],
      "text/latex": [
       "\\begin{enumerate*}\n",
       "\\item '시간당매출1조원 중국광군절 쇼핑몰 할인방법 훑어보기'\n",
       "\\item '광군절 + 샤오미 = 일단 지르고 몰아서 리뷰! (베이스보드 히터, 가습기 2세대, 손세정기, 온습도계, 센서 무드등)'\n",
       "\\item '소비력 과시한 중국 \\textbackslash{}'광군제\\textbackslash{}'…\"하루 거래액 40조 원\" (2018.11.11/뉴스데스크/MBC)'\n",
       "\\item '중국 광군절11월 11일 꼭 사야 하는 Best 4 아이템!!!'\n",
       "\\item '중국 광군절 쇼핑해서 개이득 보자\\textasciitilde{}!!!'\n",
       "\\item '광군절 타오바오 쇼핑팁 샤오미 에어닷 공홈 구입 Chinese Black Friday Taobao shopping tips and Xiaomi Airdots purchase'\n",
       "\\item '광군절에 구매한 싸구려 아이템 언박싱'\n",
       "\\item '광군절 11.11 물건 받으셨나요? 1차 개봉기'\n",
       "\\item '191021 주일룡 써모스 광군절 홍보 영상'\n",
       "\\item '{[}주식투자{]}다가오는 광군절 특수를 잡아라 - 화장품 관련주 -'\n",
       "\\end{enumerate*}\n"
      ],
      "text/markdown": [
       "1. '시간당매출1조원 중국광군절 쇼핑몰 할인방법 훑어보기'\n",
       "2. '광군절 + 샤오미 = 일단 지르고 몰아서 리뷰! (베이스보드 히터, 가습기 2세대, 손세정기, 온습도계, 센서 무드등)'\n",
       "3. '소비력 과시한 중국 \\'광군제\\'…\"하루 거래액 40조 원\" (2018.11.11/뉴스데스크/MBC)'\n",
       "4. '중국 광군절11월 11일 꼭 사야 하는 Best 4 아이템!!!'\n",
       "5. '중국 광군절 쇼핑해서 개이득 보자~!!!'\n",
       "6. '광군절 타오바오 쇼핑팁 샤오미 에어닷 공홈 구입 Chinese Black Friday Taobao shopping tips and Xiaomi Airdots purchase'\n",
       "7. '광군절에 구매한 싸구려 아이템 언박싱'\n",
       "8. '광군절 11.11 물건 받으셨나요? 1차 개봉기'\n",
       "9. '191021 주일룡 써모스 광군절 홍보 영상'\n",
       "10. '[주식투자]다가오는 광군절 특수를 잡아라 - 화장품 관련주 -'\n",
       "\n",
       "\n"
      ],
      "text/plain": [
       " [1] \"시간당매출1조원 중국광군절 쇼핑몰 할인방법 훑어보기\"                                                                 \n",
       " [2] \"광군절 + 샤오미 = 일단 지르고 몰아서 리뷰! (베이스보드 히터, 가습기 2세대, 손세정기, 온습도계, 센서 무드등)\"         \n",
       " [3] \"소비력 과시한 중국 '광군제'…\\\"하루 거래액 40조 원\\\" (2018.11.11/뉴스데스크/MBC)\"                                    \n",
       " [4] \"중국 광군절11월 11일 꼭 사야 하는 Best 4 아이템!!!\"                                                                  \n",
       " [5] \"중국 광군절 쇼핑해서 개이득 보자~!!!\"                                                                                \n",
       " [6] \"광군절 타오바오 쇼핑팁 샤오미 에어닷 공홈 구입 Chinese Black Friday Taobao shopping tips and Xiaomi Airdots purchase\"\n",
       " [7] \"광군절에 구매한 싸구려 아이템 언박싱\"                                                                                \n",
       " [8] \"광군절 11.11 물건 받으셨나요? 1차 개봉기\"                                                                            \n",
       " [9] \"191021 주일룡 써모스 광군절 홍보 영상\"                                                                               \n",
       "[10] \"[주식투자]다가오는 광군절 특수를 잡아라 - 화장품 관련주 -\"                                                           "
      ]
     },
     "metadata": {},
     "output_type": "display_data"
    }
   ],
   "source": [
    "youtube_title[1:10]"
   ]
  }
 ],
 "metadata": {
  "kernelspec": {
   "display_name": "R",
   "language": "R",
   "name": "ir"
  },
  "language_info": {
   "codemirror_mode": "r",
   "file_extension": ".r",
   "mimetype": "text/x-r-source",
   "name": "R",
   "pygments_lexer": "r",
   "version": "3.6.1"
  }
 },
 "nbformat": 4,
 "nbformat_minor": 2
}
